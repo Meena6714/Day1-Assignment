{
  "nbformat": 4,
  "nbformat_minor": 0,
  "metadata": {
    "colab": {
      "provenance": [],
      "include_colab_link": true
    },
    "kernelspec": {
      "name": "python3",
      "display_name": "Python 3"
    },
    "language_info": {
      "name": "python"
    }
  },
  "cells": [
    {
      "cell_type": "markdown",
      "metadata": {
        "id": "view-in-github",
        "colab_type": "text"
      },
      "source": [
        "<a href=\"https://colab.research.google.com/github/Meena6714/Day1-Assignment/blob/main/day2%20Assignment.ipynb\" target=\"_parent\"><img src=\"https://colab.research.google.com/assets/colab-badge.svg\" alt=\"Open In Colab\"/></a>"
      ]
    },
    {
      "cell_type": "markdown",
      "source": [
        "## 1.Difference between the list and tuple?"
      ],
      "metadata": {
        "id": "HN6tCq60j2mQ"
      }
    },
    {
      "cell_type": "code",
      "source": [
        "Lists in python are mutable(modifiable) collections denoted by square brackets, allowing dynamic changes to elements. On other hand, tuples are immutable(unchangeable) collections enclosed in parenthesis, providing fixed and secure data structures."
      ],
      "metadata": {
        "id": "N4K3iBVCrrOq"
      },
      "execution_count": null,
      "outputs": []
    },
    {
      "cell_type": "markdown",
      "source": [
        "## 2.How list is different from an array"
      ],
      "metadata": {
        "id": "uWhJG7hzk6Ov"
      }
    },
    {
      "cell_type": "code",
      "source": [
        "List allow mixed data types and versatile operations. Arrays, from the array module, demand uniform elements types are optimize for numerical computations. List are built-in, while arrays require importing the array module."
      ],
      "metadata": {
        "id": "MowyCcINo4Mn"
      },
      "execution_count": null,
      "outputs": []
    },
    {
      "cell_type": "markdown",
      "source": [],
      "metadata": {
        "id": "1uPEIFbxmQwt"
      }
    },
    {
      "cell_type": "markdown",
      "source": [
        "## 3. Use the python list append(),copy(), clear, count, extends(), index(), insert(), pop(), reverse(), sort(), min(), max(),and sum()"
      ],
      "metadata": {
        "id": "_0Rn7JQSk6M1"
      }
    },
    {
      "cell_type": "code",
      "source": [
        "#append\n",
        "My_list=[]\n",
        "My_list.append(1)\n",
        "My_list.append('hello')\n",
        "My_list.append(23)\n",
        "print(My_list)"
      ],
      "metadata": {
        "colab": {
          "base_uri": "https://localhost:8080/"
        },
        "id": "BvbTMKerwMwe",
        "outputId": "21d4cedb-c1bf-4994-a752-733c5a9dfc5a"
      },
      "execution_count": null,
      "outputs": [
        {
          "output_type": "stream",
          "name": "stdout",
          "text": [
            "[1, 'hello', 23]\n"
          ]
        }
      ]
    },
    {
      "cell_type": "code",
      "source": [
        "#copy\n",
        "original_list = [1,2,3,4]\n",
        "shallow_copy = original_list[:]\n",
        "print(\"original list:\", original_list)\n",
        "print(\"shallow copy:\", shallow_copy)"
      ],
      "metadata": {
        "colab": {
          "base_uri": "https://localhost:8080/"
        },
        "id": "skR-J2kTwy1t",
        "outputId": "77716d73-b7bf-46b4-f32a-9b068a98b74a"
      },
      "execution_count": null,
      "outputs": [
        {
          "output_type": "stream",
          "name": "stdout",
          "text": [
            "original list: [1, 2, 3, 4]\n",
            "shallow copy: [1, 2, 3, 4]\n"
          ]
        }
      ]
    },
    {
      "cell_type": "code",
      "source": [
        "#Clear\n",
        "My_list = [1, 2,3,4]\n",
        "My_list.clear()\n",
        "print('cleared list:', My_list)"
      ],
      "metadata": {
        "colab": {
          "base_uri": "https://localhost:8080/"
        },
        "id": "NI7DceeNyCeR",
        "outputId": "3f9c7e66-cb56-42f1-f729-6d024cd95120"
      },
      "execution_count": null,
      "outputs": [
        {
          "output_type": "stream",
          "name": "stdout",
          "text": [
            "cleared list: []\n"
          ]
        }
      ]
    },
    {
      "cell_type": "code",
      "source": [
        "my_list = [1,2,3,4,2,4,2]\n",
        "Count_of_2 = my_list.count(2)\n",
        "print('Count of 2:',Count_of_2)"
      ],
      "metadata": {
        "colab": {
          "base_uri": "https://localhost:8080/"
        },
        "id": "YzsQUxbIypTL",
        "outputId": "4a712962-a65b-4d17-b449-ec6ae6a4a2d3"
      },
      "execution_count": null,
      "outputs": [
        {
          "output_type": "stream",
          "name": "stdout",
          "text": [
            "Count of 2: 3\n"
          ]
        }
      ]
    },
    {
      "cell_type": "code",
      "source": [
        "#extend\n",
        "list1 = [1,2,3]\n",
        "list2 = [4,5,6]\n",
        "list1.extend(list2)\n",
        "print(\"extended list:\", list1)"
      ],
      "metadata": {
        "colab": {
          "base_uri": "https://localhost:8080/"
        },
        "id": "3e-epPwbz6aK",
        "outputId": "ea1e0658-f105-44e1-8937-f5a6a7864081"
      },
      "execution_count": null,
      "outputs": [
        {
          "output_type": "stream",
          "name": "stdout",
          "text": [
            "extended list: [1, 2, 3, 4, 5, 6]\n"
          ]
        }
      ]
    },
    {
      "cell_type": "code",
      "source": [
        "#index\n",
        "my_list = [10, 20, 30, 40, 50]\n",
        "index_of_30 = my_list.index(30)\n",
        "print(\"Index of 30:\", index_of_30)"
      ],
      "metadata": {
        "id": "-Rnpqvy40zse",
        "colab": {
          "base_uri": "https://localhost:8080/"
        },
        "outputId": "4e6aaf98-d29e-46ec-fef8-82bbe388a705"
      },
      "execution_count": null,
      "outputs": [
        {
          "output_type": "stream",
          "name": "stdout",
          "text": [
            "Index of 30: 2\n"
          ]
        }
      ]
    },
    {
      "cell_type": "code",
      "source": [
        "#insert\n",
        "My_list=[1,2,3,4,5]\n",
        "My_list.insert(2, 10)\n",
        "print(\"modified list:\", my_list)"
      ],
      "metadata": {
        "colab": {
          "base_uri": "https://localhost:8080/"
        },
        "id": "zeYhJ4K91u4U",
        "outputId": "d5abf93f-f291-474c-8b2b-07062608cdfc"
      },
      "execution_count": null,
      "outputs": [
        {
          "output_type": "stream",
          "name": "stdout",
          "text": [
            "modified list: [10, 20, 30, 40, 50]\n"
          ]
        }
      ]
    },
    {
      "cell_type": "code",
      "source": [
        "#pop\n",
        "My_list=[1,2,3,4,5]\n",
        "removed_element=My_list.pop(2)\n",
        "print(\"modified list:\", my_list)\n",
        "print(\"removed element:\", removed_element)"
      ],
      "metadata": {
        "colab": {
          "base_uri": "https://localhost:8080/"
        },
        "id": "tMz7I1VC2GUy",
        "outputId": "70b86b5c-fd51-45c1-c1a0-aed0f18eefcb"
      },
      "execution_count": null,
      "outputs": [
        {
          "output_type": "stream",
          "name": "stdout",
          "text": [
            "modified list: [10, 20, 30, 40, 50]\n",
            "removed element: 3\n"
          ]
        }
      ]
    },
    {
      "cell_type": "code",
      "source": [
        "#reverse\n",
        "My_list=[1,2,3,4,5]\n",
        "My_list.reverse()\n",
        "print('reversed list:',My_list)"
      ],
      "metadata": {
        "colab": {
          "base_uri": "https://localhost:8080/"
        },
        "id": "M2_Q2QSF20sQ",
        "outputId": "fce63d49-4ea6-45c6-c870-cc7564440704"
      },
      "execution_count": null,
      "outputs": [
        {
          "output_type": "stream",
          "name": "stdout",
          "text": [
            "reversed list: [5, 4, 3, 2, 1]\n"
          ]
        }
      ]
    },
    {
      "cell_type": "code",
      "source": [
        "#sort\n",
        "My_list=[5,2,3,4,6]\n",
        "My_list.sort()\n",
        "print(\"sorted list:\",My_list)"
      ],
      "metadata": {
        "colab": {
          "base_uri": "https://localhost:8080/"
        },
        "id": "NUGLAy8M3Z-Y",
        "outputId": "fe3c43c9-542d-4eb9-8fea-9ed586fa179b"
      },
      "execution_count": null,
      "outputs": [
        {
          "output_type": "stream",
          "name": "stdout",
          "text": [
            "sorted list: [2, 3, 4, 5, 6]\n"
          ]
        }
      ]
    },
    {
      "cell_type": "code",
      "source": [
        "My_list=[5,2,3,4,6]\n",
        "min_value=min(My_list)\n",
        "print(\"minimum value:\", min_value)"
      ],
      "metadata": {
        "colab": {
          "base_uri": "https://localhost:8080/"
        },
        "id": "Rv890cun3z8i",
        "outputId": "cf634dc1-d896-4227-f7b8-745a0359cabc"
      },
      "execution_count": null,
      "outputs": [
        {
          "output_type": "stream",
          "name": "stdout",
          "text": [
            "minimum value: 2\n"
          ]
        }
      ]
    },
    {
      "cell_type": "code",
      "source": [
        "My_list=[5,2,3,4,6]\n",
        "max_value=max(My_list)\n",
        "print(\"maximum value:\", max_value)"
      ],
      "metadata": {
        "colab": {
          "base_uri": "https://localhost:8080/"
        },
        "id": "MsGIigVu4f9G",
        "outputId": "8cdf01eb-0b33-49b9-916b-c995e02e9025"
      },
      "execution_count": null,
      "outputs": [
        {
          "output_type": "stream",
          "name": "stdout",
          "text": [
            "maximum value: 6\n"
          ]
        }
      ]
    },
    {
      "cell_type": "code",
      "source": [
        "#sum\n",
        "My_list=[5,2,8,1,3]\n",
        "sum_of_elements=sum(My_list)\n",
        "print(\"sum of elements:\", sum_of_elements)"
      ],
      "metadata": {
        "colab": {
          "base_uri": "https://localhost:8080/"
        },
        "id": "w5o53geG4oxl",
        "outputId": "ddfe5306-9741-46f2-f64d-35dcbc61c689"
      },
      "execution_count": null,
      "outputs": [
        {
          "output_type": "stream",
          "name": "stdout",
          "text": [
            "sum of elements: 19\n"
          ]
        }
      ]
    },
    {
      "cell_type": "markdown",
      "source": [
        "## 4, How would you divide the list into two parts?"
      ],
      "metadata": {
        "id": "W9xfjUWak6J_"
      }
    },
    {
      "cell_type": "code",
      "source": [
        "\n",
        "my_list = [1, 2, 3, 4, 5, 6, 7, 8, 9, 10]\n",
        "mid_point = len(my_list) // 2\n",
        "first_part = my_list[:mid_point]\n",
        "second_part = my_list[mid_point:]\n",
        "print(\"First Part:\", first_part)\n",
        "print(\"Second Part:\", second_part)"
      ],
      "metadata": {
        "id": "TIFw4k265OTW",
        "colab": {
          "base_uri": "https://localhost:8080/"
        },
        "outputId": "5ce8ed22-18e4-4b3a-bb77-b81876d5c7be"
      },
      "execution_count": null,
      "outputs": [
        {
          "output_type": "stream",
          "name": "stdout",
          "text": [
            "First Part: [1, 2, 3, 4, 5]\n",
            "Second Part: [6, 7, 8, 9, 10]\n"
          ]
        }
      ]
    },
    {
      "cell_type": "markdown",
      "source": [
        "## 5. how to filter the multiple of 3 from a given list and them remove the odd number from the new filtered list.\n",
        "Eg A = [1,2,3,4,5,6,7,8,9,21,23,24]\n",
        "Filter_lsit = [3,6,9,21,24]\n",
        "output_list = [6,24]"
      ],
      "metadata": {
        "id": "Qb1mVGfnk6G5"
      }
    },
    {
      "cell_type": "code",
      "source": [
        "my_list = [1,2,3,4,5,6,7,8, 9, 10]\n",
        "multiples_of_3 = [num for num in my_list if num % 3 == 0]\n",
        "filtered_list = [num for num in multiples_of_3 if num % 2 == 0]\n",
        "print(\"Filtered List:\", filtered_list)"
      ],
      "metadata": {
        "colab": {
          "base_uri": "https://localhost:8080/"
        },
        "id": "bqM7h59E6AVk",
        "outputId": "f7c4a098-a43c-4407-8f50-49e79a91e8a5"
      },
      "execution_count": null,
      "outputs": [
        {
          "output_type": "stream",
          "name": "stdout",
          "text": [
            "Filtered List: [6]\n"
          ]
        }
      ]
    },
    {
      "cell_type": "markdown",
      "source": [
        "## 6. How you can access keys and values simultaneously and update its value"
      ],
      "metadata": {
        "id": "auhYyjixk6FD"
      }
    },
    {
      "cell_type": "code",
      "source": [
        "\n",
        " my_dict = {'a': 1, 'b': 2, 'c': 3}\n",
        " for key, value in my_dict.items():\n",
        "    print(\"Key:\", key, \"| Value:\", value)\n",
        "for key in my_dict:\n",
        "    my_dict[key] = my_dict[key] * 2\n",
        "print(\"Updated Dictionary:\", my_dict)"
      ],
      "metadata": {
        "colab": {
          "base_uri": "https://localhost:8080/"
        },
        "id": "V1Znw7_B613q",
        "outputId": "4ef2ce1f-8634-4bfa-a6eb-489e2114fc16"
      },
      "execution_count": null,
      "outputs": [
        {
          "output_type": "stream",
          "name": "stdout",
          "text": [
            "Key: a | Value: 1\n",
            "Key: b | Value: 2\n",
            "Key: c | Value: 3\n",
            "Updated Dictionary: {'a': 2, 'b': 4, 'c': 6}\n"
          ]
        }
      ]
    },
    {
      "cell_type": "markdown",
      "source": [
        "## 7. Write python program to join, merge, concatente the two dictionaries..\n"
      ],
      "metadata": {
        "id": "vV00n0awk5_G"
      }
    },
    {
      "cell_type": "code",
      "source": [
        "# Sample dictionaries\n",
        "dict1 = {'a': 1, 'b': 2}\n",
        "dict2 = {'b': 3, 'c': 4}\n",
        "\n",
        "# Method 1: Using dictionary unpacking (Python 3.5 and later)\n",
        "merged_dict = {**dict1, **dict2}\n",
        "print(\"Merged Dictionary (Method 1):\", merged_dict)\n",
        "\n",
        "# Method 2: Using the chain() method from itertools\n",
        "from itertools import chain\n",
        "\n",
        "concatenated_dict = dict(chain(dict1.items(), dict2.items()))\n",
        "print(\"Concatenated Dictionary (Method 2):\", concatenated_dict)"
      ],
      "metadata": {
        "colab": {
          "base_uri": "https://localhost:8080/"
        },
        "id": "Jqo2Jz8B79Fp",
        "outputId": "af9ea64e-34bf-4327-a581-0d72feddbb6d"
      },
      "execution_count": null,
      "outputs": [
        {
          "output_type": "stream",
          "name": "stdout",
          "text": [
            "Merged Dictionary (Method 1): {'a': 1, 'b': 3, 'c': 4}\n",
            "Concatenated Dictionary (Method 2): {'a': 1, 'b': 3, 'c': 4}\n"
          ]
        }
      ]
    },
    {
      "cell_type": "markdown",
      "source": [
        "## 8. How would you check a specific keys from the dictionary??\n"
      ],
      "metadata": {
        "id": "Z_7dpypWnQ-z"
      }
    },
    {
      "cell_type": "code",
      "source": [
        "my_dict = {'name': 'John', 'age': 25, 'city': 'New York'}\n",
        "key_to_check1 = 'age'\n",
        "key_to_check2 = 'gender'\n",
        "if key_to_check1 in my_dict:\n",
        "    print(f\"{key_to_check1} exists with value: {my_dict[key_to_check1]}\")\n",
        "else:\n",
        "    print(f\"{key_to_check1} does not exist in the dictionary\")\n",
        "\n",
        "if key_to_check2 in my_dict:\n",
        "    print(f\"{key_to_check2} exists with value: {my_dict[key_to_check2]}\")\n",
        "else:\n",
        "    print(f\"{key_to_check2} does not exist in the dictionary\")"
      ],
      "metadata": {
        "colab": {
          "base_uri": "https://localhost:8080/"
        },
        "id": "ZfEjLOy_8g9a",
        "outputId": "5ae0d61f-e7ec-464d-e003-b003b116d9be"
      },
      "execution_count": null,
      "outputs": [
        {
          "output_type": "stream",
          "name": "stdout",
          "text": [
            "age exists with value: 25\n",
            "gender does not exist in the dictionary\n"
          ]
        }
      ]
    },
    {
      "cell_type": "markdown",
      "source": [
        "## 9. write a python program to find the unique vowel present in the sentence"
      ],
      "metadata": {
        "id": "EjxeB4ntnirH"
      }
    },
    {
      "cell_type": "code",
      "source": [
        "sentence = input(\"Enter a sentence: \").lower()\n",
        "unique_vowels = set()\n",
        "for char in sentence:\n",
        "    if char in 'aeiou' and char not in unique_vowels:\n",
        "        unique_vowels.add(char)\n",
        "print(\"Unique Vowels in the Sentence:\", ', '.join(unique_vowels))"
      ],
      "metadata": {
        "colab": {
          "base_uri": "https://localhost:8080/"
        },
        "id": "RQMpUTp89IOV",
        "outputId": "2d36c2dc-af40-49e0-85d6-26ab579ca085"
      },
      "execution_count": null,
      "outputs": [
        {
          "output_type": "stream",
          "name": "stdout",
          "text": [
            "Enter a sentence: Hello\n",
            "Unique Vowels in the Sentence: o, e\n"
          ]
        }
      ]
    },
    {
      "cell_type": "markdown",
      "source": [
        "## 10. We know that tuple is immutable, do any thing and add element to the tuples."
      ],
      "metadata": {
        "id": "B1VBImcfns6V"
      }
    },
    {
      "cell_type": "code",
      "source": [
        "No, once a tuple is created, it is immutable, which means you cannot add, remove, or modify elements in the tuple. The length and elements of a tuple cannot be changed after creation."
      ],
      "metadata": {
        "id": "5ZdFO3aq9t45"
      },
      "execution_count": null,
      "outputs": []
    },
    {
      "cell_type": "markdown",
      "source": [
        "## 11. How would you sum the list of tuple and sum of tuple of list\n",
        "list  = [(2,3),(4,5),(6,4)]\n",
        "output= [5,9,10]\n",
        "\n",
        "tuple  =([2,3],[4,5],[6,4])\n",
        "output  =  (5,9,10)"
      ],
      "metadata": {
        "id": "Yd7tDQHuoGFm"
      }
    },
    {
      "cell_type": "code",
      "source": [
        "\n",
        "list_of_tuples = [(1, 2, 3), (4, 5, 6), (7, 8, 9)]\n",
        "sum_of_elements_within_tuple = [sum(t) for t in list_of_tuples]\n",
        "sum_of_each_tuple = sum(list_of_tuples,())\n",
        "print(\"Sum of elements within each tuple:\", sum_of_elements_within_tuple)\n",
        "print(\"Sum of each tuple:\", sum_of_each_tuple)"
      ],
      "metadata": {
        "colab": {
          "base_uri": "https://localhost:8080/"
        },
        "id": "m-uAetM3-HGg",
        "outputId": "c1a7c3c9-c69c-4d22-d204-2c3fe10bdf2b"
      },
      "execution_count": null,
      "outputs": [
        {
          "output_type": "stream",
          "name": "stdout",
          "text": [
            "Sum of elements within each tuple: [6, 15, 24]\n",
            "Sum of each tuple: (1, 2, 3, 4, 5, 6, 7, 8, 9)\n"
          ]
        }
      ]
    },
    {
      "cell_type": "markdown",
      "source": [
        "## 12. FIND THE FREQUENCY OF THE KEYS IN THE GIVEN DICTIONARY"
      ],
      "metadata": {
        "id": "YiXg_vDpoq7X"
      }
    },
    {
      "cell_type": "code",
      "source": [
        "\n",
        "my_dict = {'a': 1, 'b': 2, 'c': 1, 'd': 3, 'e': 2, 'f': 1}\n",
        "key_frequency = {}\n",
        "for key in my_dict:\n",
        "    key_frequency[key] = key_frequency.get(key, 0)\n",
        "for key, frequency in key_frequency.items():\n",
        "    print(f\"The key '{key}' appears {frequency} times in the dictionary.\")"
      ],
      "metadata": {
        "colab": {
          "base_uri": "https://localhost:8080/"
        },
        "id": "eWGsGx9O_79h",
        "outputId": "04e76476-ac10-4cca-ec4d-70c457a5a2dc"
      },
      "execution_count": null,
      "outputs": [
        {
          "output_type": "stream",
          "name": "stdout",
          "text": [
            "The key 'a' appears 0 times in the dictionary.\n",
            "The key 'b' appears 0 times in the dictionary.\n",
            "The key 'c' appears 0 times in the dictionary.\n",
            "The key 'd' appears 0 times in the dictionary.\n",
            "The key 'e' appears 0 times in the dictionary.\n",
            "The key 'f' appears 0 times in the dictionary.\n"
          ]
        }
      ]
    },
    {
      "cell_type": "code",
      "source": [],
      "metadata": {
        "id": "IgNRJyLpAI7q"
      },
      "execution_count": null,
      "outputs": []
    }
  ]
}