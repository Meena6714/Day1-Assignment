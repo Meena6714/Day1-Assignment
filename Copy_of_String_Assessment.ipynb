{
  "nbformat": 4,
  "nbformat_minor": 0,
  "metadata": {
    "colab": {
      "provenance": [],
      "include_colab_link": true
    },
    "kernelspec": {
      "name": "python3",
      "display_name": "Python 3"
    },
    "language_info": {
      "name": "python"
    }
  },
  "cells": [
    {
      "cell_type": "markdown",
      "metadata": {
        "id": "view-in-github",
        "colab_type": "text"
      },
      "source": [
        "<a href=\"https://colab.research.google.com/github/Meena6714/Day1-Assignment/blob/main/Copy_of_String_Assessment.ipynb\" target=\"_parent\"><img src=\"https://colab.research.google.com/assets/colab-badge.svg\" alt=\"Open In Colab\"/></a>"
      ]
    },
    {
      "cell_type": "markdown",
      "source": [
        "## how would you confimm that two strings have the same identity?"
      ],
      "metadata": {
        "id": "eh5Ph74_HqpD"
      }
    },
    {
      "cell_type": "code",
      "source": [
        "ch1=\"meena\"\n",
        "ch2=\"meena\"\n",
        "if ch1 is ch2:\n",
        "  print(\"strings are of same identity\")\n",
        "else:\n",
        "  print(\"strings do not have identity\")"
      ],
      "metadata": {
        "id": "oERbt__VktUg",
        "colab": {
          "base_uri": "https://localhost:8080/"
        },
        "outputId": "a74f7ddf-0157-4521-9bdb-f1651e6d68ab"
      },
      "execution_count": null,
      "outputs": [
        {
          "output_type": "stream",
          "name": "stdout",
          "text": [
            "strings are of same identity\n"
          ]
        }
      ]
    },
    {
      "cell_type": "code",
      "source": [
        "ch1=\"meenu\"\n",
        "ch2=\"minnu\"\n",
        "if ch1 is ch2:\n",
        "  print(\"strings are of same identity\")\n",
        "else:\n",
        "  print(\"strings do not have identity\")"
      ],
      "metadata": {
        "colab": {
          "base_uri": "https://localhost:8080/"
        },
        "id": "TyQsLgjJG6ps",
        "outputId": "f54b1a91-a773-46a4-9785-7c9443cd86f8"
      },
      "execution_count": null,
      "outputs": [
        {
          "output_type": "stream",
          "name": "stdout",
          "text": [
            "strings do not have identity\n"
          ]
        }
      ]
    },
    {
      "cell_type": "markdown",
      "source": [
        "How to find the length and index of the string?"
      ],
      "metadata": {
        "id": "xSfXJRgVHKOB"
      }
    },
    {
      "cell_type": "code",
      "source": [
        "\n",
        "s=\"image\"\n",
        "print(len(s))\n",
        "print(s.index(\"g\"))"
      ],
      "metadata": {
        "id": "cuEJ9hZ_S4df",
        "colab": {
          "base_uri": "https://localhost:8080/"
        },
        "outputId": "40cba436-964c-4bd4-e1a5-ef92afdff93f"
      },
      "execution_count": null,
      "outputs": [
        {
          "output_type": "stream",
          "name": "stdout",
          "text": [
            "5\n",
            "3\n"
          ]
        }
      ]
    },
    {
      "cell_type": "markdown",
      "source": [
        "## how to check a string contain a specific substring"
      ],
      "metadata": {
        "id": "EGK-LzalIO_i"
      }
    },
    {
      "cell_type": "code",
      "source": [
        "s=\"python programming\"\n",
        "sub_str=\"python\"\n",
        "if sub_str in s:\n",
        "  print(\"The string contains the specific string\")\n",
        "else:\n",
        "  print(\"The string does not contain any specific string\")"
      ],
      "metadata": {
        "id": "g1HYIC9gJ7Vi",
        "colab": {
          "base_uri": "https://localhost:8080/"
        },
        "outputId": "5a08b069-4578-46b2-a1fa-a682fa490a43"
      },
      "execution_count": null,
      "outputs": [
        {
          "output_type": "stream",
          "name": "stdout",
          "text": [
            "The string contains the specific string\n"
          ]
        }
      ]
    },
    {
      "cell_type": "markdown",
      "source": [
        "## how to a take a string from backward with two step difference?\n"
      ],
      "metadata": {
        "id": "LmY6RXjoJF9h"
      }
    },
    {
      "cell_type": "code",
      "source": [
        "s=\"meena\"\n",
        "t=s[::-2]\n",
        "print(\"original string is:\",s)\n",
        "print(\"String from backward with two step difference:\",t)"
      ],
      "metadata": {
        "id": "_C_pqVqBJ8AA",
        "colab": {
          "base_uri": "https://localhost:8080/"
        },
        "outputId": "1f4db4d2-dfb4-439d-dcc5-ccca1c9913e7"
      },
      "execution_count": null,
      "outputs": [
        {
          "output_type": "stream",
          "name": "stdout",
          "text": [
            "original string is: meena\n",
            "String from backward with two step difference: aem\n"
          ]
        }
      ]
    },
    {
      "cell_type": "markdown",
      "source": [
        "## how to find the index of the last element"
      ],
      "metadata": {
        "id": "7eg6JfyuJr_2"
      }
    },
    {
      "cell_type": "code",
      "source": [
        "s=\"pyton\"\n",
        "print(\"Index of last element is\", len(s)-1 )"
      ],
      "metadata": {
        "id": "T84ODp77J8zR",
        "colab": {
          "base_uri": "https://localhost:8080/"
        },
        "outputId": "0b7b87cc-4c69-4297-b3d8-467479641928"
      },
      "execution_count": null,
      "outputs": [
        {
          "output_type": "stream",
          "name": "stdout",
          "text": [
            "Index of last element is 4\n"
          ]
        }
      ]
    },
    {
      "cell_type": "markdown",
      "source": [
        "## Write 2 ways to concatinate the string"
      ],
      "metadata": {
        "id": "FTdxvLc1J0lv"
      }
    },
    {
      "cell_type": "code",
      "source": [
        "a=\"mine\"\n",
        "b=\"your\"\n",
        "print(a+b)\n",
        "a=\"mine\"\n",
        "b=\"your\"\n",
        "(a+ \" \" +b)"
      ],
      "metadata": {
        "id": "j8P9ODeTJ9Zz",
        "colab": {
          "base_uri": "https://localhost:8080/",
          "height": 53
        },
        "outputId": "4e1415e6-f5a5-47f0-a041-b85837549d63"
      },
      "execution_count": null,
      "outputs": [
        {
          "output_type": "stream",
          "name": "stdout",
          "text": [
            "mineyour\n"
          ]
        },
        {
          "output_type": "execute_result",
          "data": {
            "text/plain": [
              "'mine your'"
            ],
            "application/vnd.google.colaboratory.intrinsic+json": {
              "type": "string"
            }
          },
          "metadata": {},
          "execution_count": 34
        }
      ]
    }
  ]
}